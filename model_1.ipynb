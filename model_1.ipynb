{
 "cells": [
  {
   "cell_type": "code",
   "execution_count": 3,
   "id": "5c016c41-19a3-47f3-8708-5702b9540ffe",
   "metadata": {},
   "outputs": [
    {
     "name": "stdout",
     "output_type": "stream",
     "text": [
      "Evaluating Linear Regression...\n",
      "Linear Regression Average MSE: 31.144130412572764\n",
      "Evaluating Random Forest...\n",
      "Random Forest Average MSE: 1.7952397515438427\n",
      "Evaluating Gradient Boosting...\n",
      "Gradient Boosting Average MSE: 1.6956426838801277\n",
      "Evaluating SVR...\n",
      "SVR Average MSE: 2.0957315079880066\n",
      "Selected Model: Gradient Boosting, MSE on Test Set: 1.6420804290730284\n",
      "Best model Gradient Boosting saved to 'best_model.pkl'\n"
     ]
    }
   ],
   "source": [
    "# Required Libraries for Model Training\n",
    "import pandas as pd\n",
    "from sklearn.model_selection import train_test_split, cross_val_score\n",
    "from sklearn.linear_model import LinearRegression\n",
    "from sklearn.ensemble import RandomForestRegressor, GradientBoostingRegressor\n",
    "from sklearn.svm import SVR\n",
    "from sklearn.metrics import mean_squared_error\n",
    "import pickle\n",
    "\n",
    "# 1. Load and Prepare the Dataset\n",
    "df = pd.read_csv('cleaned_original.csv')\n",
    "\n",
    "# 2. Define features (X) and target (y)\n",
    "X = df[['calories', 'protein', 'fat', 'sodium']]  # Drop the non-predictive and target columns\n",
    "y = df['rating']\n",
    "\n",
    "# Train/Test Split\n",
    "X_train, X_test, y_train, y_test = train_test_split(X, y, test_size=0.2, random_state=42)\n",
    "\n",
    "# 3. Apply multiple models and evaluate their performance\n",
    "models = {\n",
    "    'Linear Regression': LinearRegression(),\n",
    "    'Random Forest': RandomForestRegressor(random_state=42),\n",
    "    'Gradient Boosting': GradientBoostingRegressor(random_state=42),\n",
    "    'SVR': SVR()\n",
    "}\n",
    "\n",
    "# Initialize model performance dictionary\n",
    "model_performance = {}\n",
    "\n",
    "# Evaluate models one by one, with fewer cross-validation folds for faster results (cv=3)\n",
    "for name, model in models.items():\n",
    "    print(f\"Evaluating {name}...\")\n",
    "    cv_scores = cross_val_score(model, X_train, y_train, cv=3, scoring='neg_mean_squared_error')\n",
    "    model_performance[name] = -cv_scores.mean()\n",
    "    print(f\"{name} Average MSE: {-cv_scores.mean()}\")\n",
    "\n",
    "# Select the best model based on cross-validation scores\n",
    "best_model_name = min(model_performance, key=model_performance.get)\n",
    "best_model = models[best_model_name]\n",
    "\n",
    "# Train the best model on the entire training set\n",
    "best_model.fit(X_train, y_train)\n",
    "\n",
    "# Test the model on the test set\n",
    "y_pred = best_model.predict(X_test)\n",
    "mse = mean_squared_error(y_test, y_pred)\n",
    "print(f\"Selected Model: {best_model_name}, MSE on Test Set: {mse}\")\n",
    "\n",
    "# Save the best model to a pickle file\n",
    "with open('best_model.pkl', 'wb') as file:\n",
    "    pickle.dump(best_model, file)\n",
    "\n",
    "print(f\"Best model {best_model_name} saved to 'best_model.pkl'\")\n"
   ]
  },
  {
   "cell_type": "code",
   "execution_count": null,
   "id": "da3ab283-ec8f-4c51-a8ce-99d9418ad573",
   "metadata": {},
   "outputs": [],
   "source": []
  }
 ],
 "metadata": {
  "kernelspec": {
   "display_name": "Python 3 (ipykernel)",
   "language": "python",
   "name": "python3"
  },
  "language_info": {
   "codemirror_mode": {
    "name": "ipython",
    "version": 3
   },
   "file_extension": ".py",
   "mimetype": "text/x-python",
   "name": "python",
   "nbconvert_exporter": "python",
   "pygments_lexer": "ipython3",
   "version": "3.10.11"
  }
 },
 "nbformat": 4,
 "nbformat_minor": 5
}
